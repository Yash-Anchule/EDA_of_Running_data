{
 "cells": [
  {
   "cell_type": "code",
   "execution_count": 2,
   "id": "40e411f6-8e56-49af-b9a1-eb46efba33f1",
   "metadata": {},
   "outputs": [],
   "source": [
    "import pandas as pd\n",
    "import seaborn as sns"
   ]
  },
  {
   "cell_type": "code",
   "execution_count": 4,
   "id": "bcab5977-8887-4aec-b760-4fc5e5b636a1",
   "metadata": {},
   "outputs": [
    {
     "name": "stderr",
     "output_type": "stream",
     "text": [
      "C:\\Users\\DELL\\AppData\\Local\\Temp\\ipykernel_1708\\2350612576.py:1: DtypeWarning: Columns (11) have mixed types. Specify dtype option on import or set low_memory=False.\n",
      "  df = pd.read_csv(\"TWO_CENTURIES_OF_UM_RACES.csv\")\n"
     ]
    }
   ],
   "source": [
    "df = pd.read_csv(\"TWO_CENTURIES_OF_UM_RACES.csv\")"
   ]
  },
  {
   "cell_type": "code",
   "execution_count": 8,
   "id": "58ed65a2-79b8-411a-9818-0b030cc2b0ee",
   "metadata": {},
   "outputs": [
    {
     "data": {
      "text/html": [
       "<div>\n",
       "<style scoped>\n",
       "    .dataframe tbody tr th:only-of-type {\n",
       "        vertical-align: middle;\n",
       "    }\n",
       "\n",
       "    .dataframe tbody tr th {\n",
       "        vertical-align: top;\n",
       "    }\n",
       "\n",
       "    .dataframe thead th {\n",
       "        text-align: right;\n",
       "    }\n",
       "</style>\n",
       "<table border=\"1\" class=\"dataframe\">\n",
       "  <thead>\n",
       "    <tr style=\"text-align: right;\">\n",
       "      <th></th>\n",
       "      <th>Year of event</th>\n",
       "      <th>Event dates</th>\n",
       "      <th>Event name</th>\n",
       "      <th>Event distance/length</th>\n",
       "      <th>Event number of finishers</th>\n",
       "      <th>Athlete performance</th>\n",
       "      <th>Athlete club</th>\n",
       "      <th>Athlete country</th>\n",
       "      <th>Athlete year of birth</th>\n",
       "      <th>Athlete gender</th>\n",
       "      <th>Athlete age category</th>\n",
       "      <th>Athlete average speed</th>\n",
       "      <th>Athlete ID</th>\n",
       "    </tr>\n",
       "  </thead>\n",
       "  <tbody>\n",
       "    <tr>\n",
       "      <th>0</th>\n",
       "      <td>2018</td>\n",
       "      <td>06.01.2018</td>\n",
       "      <td>Selva Costera (CHI)</td>\n",
       "      <td>50km</td>\n",
       "      <td>22</td>\n",
       "      <td>4:51:39 h</td>\n",
       "      <td>Tnfrc</td>\n",
       "      <td>CHI</td>\n",
       "      <td>1978.0</td>\n",
       "      <td>M</td>\n",
       "      <td>M35</td>\n",
       "      <td>10.286</td>\n",
       "      <td>0</td>\n",
       "    </tr>\n",
       "    <tr>\n",
       "      <th>1</th>\n",
       "      <td>2018</td>\n",
       "      <td>06.01.2018</td>\n",
       "      <td>Selva Costera (CHI)</td>\n",
       "      <td>50km</td>\n",
       "      <td>22</td>\n",
       "      <td>5:15:45 h</td>\n",
       "      <td>Roberto Echeverría</td>\n",
       "      <td>CHI</td>\n",
       "      <td>1981.0</td>\n",
       "      <td>M</td>\n",
       "      <td>M35</td>\n",
       "      <td>9.501</td>\n",
       "      <td>1</td>\n",
       "    </tr>\n",
       "    <tr>\n",
       "      <th>2</th>\n",
       "      <td>2018</td>\n",
       "      <td>06.01.2018</td>\n",
       "      <td>Selva Costera (CHI)</td>\n",
       "      <td>50km</td>\n",
       "      <td>22</td>\n",
       "      <td>5:16:44 h</td>\n",
       "      <td>Puro Trail Osorno</td>\n",
       "      <td>CHI</td>\n",
       "      <td>1987.0</td>\n",
       "      <td>M</td>\n",
       "      <td>M23</td>\n",
       "      <td>9.472</td>\n",
       "      <td>2</td>\n",
       "    </tr>\n",
       "    <tr>\n",
       "      <th>3</th>\n",
       "      <td>2018</td>\n",
       "      <td>06.01.2018</td>\n",
       "      <td>Selva Costera (CHI)</td>\n",
       "      <td>50km</td>\n",
       "      <td>22</td>\n",
       "      <td>5:34:13 h</td>\n",
       "      <td>Columbia</td>\n",
       "      <td>ARG</td>\n",
       "      <td>1976.0</td>\n",
       "      <td>M</td>\n",
       "      <td>M40</td>\n",
       "      <td>8.976</td>\n",
       "      <td>3</td>\n",
       "    </tr>\n",
       "    <tr>\n",
       "      <th>4</th>\n",
       "      <td>2018</td>\n",
       "      <td>06.01.2018</td>\n",
       "      <td>Selva Costera (CHI)</td>\n",
       "      <td>50km</td>\n",
       "      <td>22</td>\n",
       "      <td>5:54:14 h</td>\n",
       "      <td>Baguales Trail</td>\n",
       "      <td>CHI</td>\n",
       "      <td>1992.0</td>\n",
       "      <td>M</td>\n",
       "      <td>M23</td>\n",
       "      <td>8.469</td>\n",
       "      <td>4</td>\n",
       "    </tr>\n",
       "    <tr>\n",
       "      <th>5</th>\n",
       "      <td>2018</td>\n",
       "      <td>06.01.2018</td>\n",
       "      <td>Selva Costera (CHI)</td>\n",
       "      <td>50km</td>\n",
       "      <td>22</td>\n",
       "      <td>6:25:01 h</td>\n",
       "      <td>NaN</td>\n",
       "      <td>ARG</td>\n",
       "      <td>1974.0</td>\n",
       "      <td>M</td>\n",
       "      <td>M40</td>\n",
       "      <td>7.792</td>\n",
       "      <td>5</td>\n",
       "    </tr>\n",
       "    <tr>\n",
       "      <th>6</th>\n",
       "      <td>2018</td>\n",
       "      <td>06.01.2018</td>\n",
       "      <td>Selva Costera (CHI)</td>\n",
       "      <td>50km</td>\n",
       "      <td>22</td>\n",
       "      <td>6:28:00 h</td>\n",
       "      <td>Los Patagones</td>\n",
       "      <td>ARG</td>\n",
       "      <td>1979.0</td>\n",
       "      <td>F</td>\n",
       "      <td>W35</td>\n",
       "      <td>7.732</td>\n",
       "      <td>6</td>\n",
       "    </tr>\n",
       "    <tr>\n",
       "      <th>7</th>\n",
       "      <td>2018</td>\n",
       "      <td>06.01.2018</td>\n",
       "      <td>Selva Costera (CHI)</td>\n",
       "      <td>50km</td>\n",
       "      <td>22</td>\n",
       "      <td>6:32:24 h</td>\n",
       "      <td>Reaktiva Chile</td>\n",
       "      <td>CHI</td>\n",
       "      <td>1967.0</td>\n",
       "      <td>F</td>\n",
       "      <td>W50</td>\n",
       "      <td>7.645</td>\n",
       "      <td>7</td>\n",
       "    </tr>\n",
       "    <tr>\n",
       "      <th>8</th>\n",
       "      <td>2018</td>\n",
       "      <td>06.01.2018</td>\n",
       "      <td>Selva Costera (CHI)</td>\n",
       "      <td>50km</td>\n",
       "      <td>22</td>\n",
       "      <td>6:39:08 h</td>\n",
       "      <td>Puro Trail Osorno</td>\n",
       "      <td>CHI</td>\n",
       "      <td>1985.0</td>\n",
       "      <td>M</td>\n",
       "      <td>M23</td>\n",
       "      <td>7.516</td>\n",
       "      <td>8</td>\n",
       "    </tr>\n",
       "    <tr>\n",
       "      <th>9</th>\n",
       "      <td>2018</td>\n",
       "      <td>06.01.2018</td>\n",
       "      <td>Selva Costera (CHI)</td>\n",
       "      <td>50km</td>\n",
       "      <td>22</td>\n",
       "      <td>6:45:11 h</td>\n",
       "      <td>Marlene Flores Team</td>\n",
       "      <td>CHI</td>\n",
       "      <td>1976.0</td>\n",
       "      <td>M</td>\n",
       "      <td>M40</td>\n",
       "      <td>7.404</td>\n",
       "      <td>9</td>\n",
       "    </tr>\n",
       "  </tbody>\n",
       "</table>\n",
       "</div>"
      ],
      "text/plain": [
       "   Year of event Event dates           Event name Event distance/length  \\\n",
       "0           2018  06.01.2018  Selva Costera (CHI)                  50km   \n",
       "1           2018  06.01.2018  Selva Costera (CHI)                  50km   \n",
       "2           2018  06.01.2018  Selva Costera (CHI)                  50km   \n",
       "3           2018  06.01.2018  Selva Costera (CHI)                  50km   \n",
       "4           2018  06.01.2018  Selva Costera (CHI)                  50km   \n",
       "5           2018  06.01.2018  Selva Costera (CHI)                  50km   \n",
       "6           2018  06.01.2018  Selva Costera (CHI)                  50km   \n",
       "7           2018  06.01.2018  Selva Costera (CHI)                  50km   \n",
       "8           2018  06.01.2018  Selva Costera (CHI)                  50km   \n",
       "9           2018  06.01.2018  Selva Costera (CHI)                  50km   \n",
       "\n",
       "   Event number of finishers Athlete performance         Athlete club  \\\n",
       "0                         22           4:51:39 h                Tnfrc   \n",
       "1                         22           5:15:45 h   Roberto Echeverría   \n",
       "2                         22           5:16:44 h    Puro Trail Osorno   \n",
       "3                         22           5:34:13 h             Columbia   \n",
       "4                         22           5:54:14 h       Baguales Trail   \n",
       "5                         22           6:25:01 h                  NaN   \n",
       "6                         22           6:28:00 h        Los Patagones   \n",
       "7                         22           6:32:24 h       Reaktiva Chile   \n",
       "8                         22           6:39:08 h    Puro Trail Osorno   \n",
       "9                         22           6:45:11 h  Marlene Flores Team   \n",
       "\n",
       "  Athlete country  Athlete year of birth Athlete gender Athlete age category  \\\n",
       "0             CHI                 1978.0              M                  M35   \n",
       "1             CHI                 1981.0              M                  M35   \n",
       "2             CHI                 1987.0              M                  M23   \n",
       "3             ARG                 1976.0              M                  M40   \n",
       "4             CHI                 1992.0              M                  M23   \n",
       "5             ARG                 1974.0              M                  M40   \n",
       "6             ARG                 1979.0              F                  W35   \n",
       "7             CHI                 1967.0              F                  W50   \n",
       "8             CHI                 1985.0              M                  M23   \n",
       "9             CHI                 1976.0              M                  M40   \n",
       "\n",
       "  Athlete average speed  Athlete ID  \n",
       "0                10.286           0  \n",
       "1                 9.501           1  \n",
       "2                 9.472           2  \n",
       "3                 8.976           3  \n",
       "4                 8.469           4  \n",
       "5                 7.792           5  \n",
       "6                 7.732           6  \n",
       "7                 7.645           7  \n",
       "8                 7.516           8  \n",
       "9                 7.404           9  "
      ]
     },
     "execution_count": 8,
     "metadata": {},
     "output_type": "execute_result"
    }
   ],
   "source": [
    "df.head(10)"
   ]
  },
  {
   "cell_type": "code",
   "execution_count": 10,
   "id": "3ebb5254-2780-424c-a497-21327baffdf2",
   "metadata": {},
   "outputs": [
    {
     "data": {
      "text/plain": [
       "(7461195, 13)"
      ]
     },
     "execution_count": 10,
     "metadata": {},
     "output_type": "execute_result"
    }
   ],
   "source": [
    "df.shape"
   ]
  },
  {
   "cell_type": "code",
   "execution_count": 14,
   "id": "8a34d842-a110-4be9-900e-6ec5b5cbb3da",
   "metadata": {},
   "outputs": [
    {
     "data": {
      "text/plain": [
       "Year of event                  int64\n",
       "Event dates                   object\n",
       "Event name                    object\n",
       "Event distance/length         object\n",
       "Event number of finishers      int64\n",
       "Athlete performance           object\n",
       "Athlete club                  object\n",
       "Athlete country               object\n",
       "Athlete year of birth        float64\n",
       "Athlete gender                object\n",
       "Athlete age category          object\n",
       "Athlete average speed         object\n",
       "Athlete ID                     int64\n",
       "dtype: object"
      ]
     },
     "execution_count": 14,
     "metadata": {},
     "output_type": "execute_result"
    }
   ],
   "source": [
    "df.dtypes"
   ]
  },
  {
   "cell_type": "code",
   "execution_count": 16,
   "id": "f46d0302-68b0-419b-9252-21b786fb14cf",
   "metadata": {},
   "outputs": [],
   "source": [
    "# cleaning up the data"
   ]
  },
  {
   "cell_type": "code",
   "execution_count": 18,
   "id": "b4efffb7-f917-4d80-a5e5-6e51569e006d",
   "metadata": {},
   "outputs": [],
   "source": [
    "# Getting USA DATA either 50 miles in 2020 year"
   ]
  },
  {
   "cell_type": "code",
   "execution_count": 5,
   "id": "460aa62d-d06c-4e49-8c95-781c8d1f8a9a",
   "metadata": {},
   "outputs": [],
   "source": [
    "df_USA  = df[(df['Event name'].str[-4:-1]==\"USA\") & ( df['Event distance/length'].isin([\"50km\",\"50mi\"])) & ( df['Year of event']==2020) ]"
   ]
  },
  {
   "cell_type": "code",
   "execution_count": 103,
   "id": "c4005a1c-f47d-4344-9cba-256fe592fa98",
   "metadata": {},
   "outputs": [
    {
     "data": {
      "text/html": [
       "<div>\n",
       "<style scoped>\n",
       "    .dataframe tbody tr th:only-of-type {\n",
       "        vertical-align: middle;\n",
       "    }\n",
       "\n",
       "    .dataframe tbody tr th {\n",
       "        vertical-align: top;\n",
       "    }\n",
       "\n",
       "    .dataframe thead th {\n",
       "        text-align: right;\n",
       "    }\n",
       "</style>\n",
       "<table border=\"1\" class=\"dataframe\">\n",
       "  <thead>\n",
       "    <tr style=\"text-align: right;\">\n",
       "      <th></th>\n",
       "      <th>Year of event</th>\n",
       "      <th>Event dates</th>\n",
       "      <th>Event name</th>\n",
       "      <th>Event distance/length</th>\n",
       "      <th>Event number of finishers</th>\n",
       "      <th>Athlete performance</th>\n",
       "      <th>Athlete club</th>\n",
       "      <th>Athlete country</th>\n",
       "      <th>Athlete year of birth</th>\n",
       "      <th>Athlete gender</th>\n",
       "      <th>Athlete age category</th>\n",
       "      <th>Athlete average speed</th>\n",
       "      <th>Athlete ID</th>\n",
       "    </tr>\n",
       "  </thead>\n",
       "  <tbody>\n",
       "    <tr>\n",
       "      <th>2539945</th>\n",
       "      <td>2020</td>\n",
       "      <td>02.02.2020</td>\n",
       "      <td>West Seattle Beach Run - Winter Edition (USA)</td>\n",
       "      <td>50km</td>\n",
       "      <td>20</td>\n",
       "      <td>3:17:55 h</td>\n",
       "      <td>*Normandy Park, WA</td>\n",
       "      <td>USA</td>\n",
       "      <td>1991.0</td>\n",
       "      <td>M</td>\n",
       "      <td>M23</td>\n",
       "      <td>15.158</td>\n",
       "      <td>71287</td>\n",
       "    </tr>\n",
       "    <tr>\n",
       "      <th>2539946</th>\n",
       "      <td>2020</td>\n",
       "      <td>02.02.2020</td>\n",
       "      <td>West Seattle Beach Run - Winter Edition (USA)</td>\n",
       "      <td>50km</td>\n",
       "      <td>20</td>\n",
       "      <td>4:02:32 h</td>\n",
       "      <td>*Gold Bar, WA</td>\n",
       "      <td>USA</td>\n",
       "      <td>1981.0</td>\n",
       "      <td>M</td>\n",
       "      <td>M35</td>\n",
       "      <td>12.369</td>\n",
       "      <td>629508</td>\n",
       "    </tr>\n",
       "    <tr>\n",
       "      <th>2539947</th>\n",
       "      <td>2020</td>\n",
       "      <td>02.02.2020</td>\n",
       "      <td>West Seattle Beach Run - Winter Edition (USA)</td>\n",
       "      <td>50km</td>\n",
       "      <td>20</td>\n",
       "      <td>4:07:57 h</td>\n",
       "      <td>*Vashon, WA</td>\n",
       "      <td>USA</td>\n",
       "      <td>1999.0</td>\n",
       "      <td>M</td>\n",
       "      <td>MU23</td>\n",
       "      <td>12.099</td>\n",
       "      <td>64838</td>\n",
       "    </tr>\n",
       "    <tr>\n",
       "      <th>2539948</th>\n",
       "      <td>2020</td>\n",
       "      <td>02.02.2020</td>\n",
       "      <td>West Seattle Beach Run - Winter Edition (USA)</td>\n",
       "      <td>50km</td>\n",
       "      <td>20</td>\n",
       "      <td>4:22:02 h</td>\n",
       "      <td>*Gig Harbor, WA</td>\n",
       "      <td>USA</td>\n",
       "      <td>1983.0</td>\n",
       "      <td>M</td>\n",
       "      <td>M35</td>\n",
       "      <td>11.449</td>\n",
       "      <td>704450</td>\n",
       "    </tr>\n",
       "    <tr>\n",
       "      <th>2539949</th>\n",
       "      <td>2020</td>\n",
       "      <td>02.02.2020</td>\n",
       "      <td>West Seattle Beach Run - Winter Edition (USA)</td>\n",
       "      <td>50km</td>\n",
       "      <td>20</td>\n",
       "      <td>4:27:34 h</td>\n",
       "      <td>*Bainbridge Island, WA</td>\n",
       "      <td>USA</td>\n",
       "      <td>1977.0</td>\n",
       "      <td>M</td>\n",
       "      <td>M40</td>\n",
       "      <td>11.212</td>\n",
       "      <td>810281</td>\n",
       "    </tr>\n",
       "  </tbody>\n",
       "</table>\n",
       "</div>"
      ],
      "text/plain": [
       "         Year of event Event dates  \\\n",
       "2539945           2020  02.02.2020   \n",
       "2539946           2020  02.02.2020   \n",
       "2539947           2020  02.02.2020   \n",
       "2539948           2020  02.02.2020   \n",
       "2539949           2020  02.02.2020   \n",
       "\n",
       "                                            Event name Event distance/length  \\\n",
       "2539945  West Seattle Beach Run - Winter Edition (USA)                  50km   \n",
       "2539946  West Seattle Beach Run - Winter Edition (USA)                  50km   \n",
       "2539947  West Seattle Beach Run - Winter Edition (USA)                  50km   \n",
       "2539948  West Seattle Beach Run - Winter Edition (USA)                  50km   \n",
       "2539949  West Seattle Beach Run - Winter Edition (USA)                  50km   \n",
       "\n",
       "         Event number of finishers Athlete performance  \\\n",
       "2539945                         20           3:17:55 h   \n",
       "2539946                         20           4:02:32 h   \n",
       "2539947                         20           4:07:57 h   \n",
       "2539948                         20           4:22:02 h   \n",
       "2539949                         20           4:27:34 h   \n",
       "\n",
       "                   Athlete club Athlete country  Athlete year of birth  \\\n",
       "2539945      *Normandy Park, WA             USA                 1991.0   \n",
       "2539946           *Gold Bar, WA             USA                 1981.0   \n",
       "2539947             *Vashon, WA             USA                 1999.0   \n",
       "2539948         *Gig Harbor, WA             USA                 1983.0   \n",
       "2539949  *Bainbridge Island, WA             USA                 1977.0   \n",
       "\n",
       "        Athlete gender Athlete age category Athlete average speed  Athlete ID  \n",
       "2539945              M                  M23                15.158       71287  \n",
       "2539946              M                  M35                12.369      629508  \n",
       "2539947              M                 MU23                12.099       64838  \n",
       "2539948              M                  M35                11.449      704450  \n",
       "2539949              M                  M40                11.212      810281  "
      ]
     },
     "execution_count": 103,
     "metadata": {},
     "output_type": "execute_result"
    }
   ],
   "source": [
    "df_USA.head()"
   ]
  },
  {
   "cell_type": "code",
   "execution_count": 6,
   "id": "69e15a65-ac73-4f49-b33b-5dd6009eadd8",
   "metadata": {},
   "outputs": [],
   "source": [
    "df_USA.loc[:,'Event name'] = df_USA['Event name'].str[:-5]"
   ]
  },
  {
   "cell_type": "code",
   "execution_count": 108,
   "id": "2660491c-9c63-4a7e-aca1-203845201da4",
   "metadata": {},
   "outputs": [
    {
     "data": {
      "text/html": [
       "<div>\n",
       "<style scoped>\n",
       "    .dataframe tbody tr th:only-of-type {\n",
       "        vertical-align: middle;\n",
       "    }\n",
       "\n",
       "    .dataframe tbody tr th {\n",
       "        vertical-align: top;\n",
       "    }\n",
       "\n",
       "    .dataframe thead th {\n",
       "        text-align: right;\n",
       "    }\n",
       "</style>\n",
       "<table border=\"1\" class=\"dataframe\">\n",
       "  <thead>\n",
       "    <tr style=\"text-align: right;\">\n",
       "      <th></th>\n",
       "      <th>Year of event</th>\n",
       "      <th>Event dates</th>\n",
       "      <th>Event name</th>\n",
       "      <th>Event distance/length</th>\n",
       "      <th>Event number of finishers</th>\n",
       "      <th>Athlete performance</th>\n",
       "      <th>Athlete club</th>\n",
       "      <th>Athlete country</th>\n",
       "      <th>Athlete year of birth</th>\n",
       "      <th>Athlete gender</th>\n",
       "      <th>Athlete age category</th>\n",
       "      <th>Athlete average speed</th>\n",
       "      <th>Athlete ID</th>\n",
       "    </tr>\n",
       "  </thead>\n",
       "  <tbody>\n",
       "    <tr>\n",
       "      <th>2539945</th>\n",
       "      <td>2020</td>\n",
       "      <td>02.02.2020</td>\n",
       "      <td>West Seattle Beach Run - Winter Edition</td>\n",
       "      <td>50km</td>\n",
       "      <td>20</td>\n",
       "      <td>3:17:55 h</td>\n",
       "      <td>*Normandy Park, WA</td>\n",
       "      <td>USA</td>\n",
       "      <td>1991.0</td>\n",
       "      <td>M</td>\n",
       "      <td>M23</td>\n",
       "      <td>15.158</td>\n",
       "      <td>71287</td>\n",
       "    </tr>\n",
       "    <tr>\n",
       "      <th>2539946</th>\n",
       "      <td>2020</td>\n",
       "      <td>02.02.2020</td>\n",
       "      <td>West Seattle Beach Run - Winter Edition</td>\n",
       "      <td>50km</td>\n",
       "      <td>20</td>\n",
       "      <td>4:02:32 h</td>\n",
       "      <td>*Gold Bar, WA</td>\n",
       "      <td>USA</td>\n",
       "      <td>1981.0</td>\n",
       "      <td>M</td>\n",
       "      <td>M35</td>\n",
       "      <td>12.369</td>\n",
       "      <td>629508</td>\n",
       "    </tr>\n",
       "    <tr>\n",
       "      <th>2539947</th>\n",
       "      <td>2020</td>\n",
       "      <td>02.02.2020</td>\n",
       "      <td>West Seattle Beach Run - Winter Edition</td>\n",
       "      <td>50km</td>\n",
       "      <td>20</td>\n",
       "      <td>4:07:57 h</td>\n",
       "      <td>*Vashon, WA</td>\n",
       "      <td>USA</td>\n",
       "      <td>1999.0</td>\n",
       "      <td>M</td>\n",
       "      <td>MU23</td>\n",
       "      <td>12.099</td>\n",
       "      <td>64838</td>\n",
       "    </tr>\n",
       "    <tr>\n",
       "      <th>2539948</th>\n",
       "      <td>2020</td>\n",
       "      <td>02.02.2020</td>\n",
       "      <td>West Seattle Beach Run - Winter Edition</td>\n",
       "      <td>50km</td>\n",
       "      <td>20</td>\n",
       "      <td>4:22:02 h</td>\n",
       "      <td>*Gig Harbor, WA</td>\n",
       "      <td>USA</td>\n",
       "      <td>1983.0</td>\n",
       "      <td>M</td>\n",
       "      <td>M35</td>\n",
       "      <td>11.449</td>\n",
       "      <td>704450</td>\n",
       "    </tr>\n",
       "    <tr>\n",
       "      <th>2539949</th>\n",
       "      <td>2020</td>\n",
       "      <td>02.02.2020</td>\n",
       "      <td>West Seattle Beach Run - Winter Edition</td>\n",
       "      <td>50km</td>\n",
       "      <td>20</td>\n",
       "      <td>4:27:34 h</td>\n",
       "      <td>*Bainbridge Island, WA</td>\n",
       "      <td>USA</td>\n",
       "      <td>1977.0</td>\n",
       "      <td>M</td>\n",
       "      <td>M40</td>\n",
       "      <td>11.212</td>\n",
       "      <td>810281</td>\n",
       "    </tr>\n",
       "  </tbody>\n",
       "</table>\n",
       "</div>"
      ],
      "text/plain": [
       "         Year of event Event dates                                Event name  \\\n",
       "2539945           2020  02.02.2020  West Seattle Beach Run - Winter Edition    \n",
       "2539946           2020  02.02.2020  West Seattle Beach Run - Winter Edition    \n",
       "2539947           2020  02.02.2020  West Seattle Beach Run - Winter Edition    \n",
       "2539948           2020  02.02.2020  West Seattle Beach Run - Winter Edition    \n",
       "2539949           2020  02.02.2020  West Seattle Beach Run - Winter Edition    \n",
       "\n",
       "        Event distance/length  Event number of finishers Athlete performance  \\\n",
       "2539945                  50km                         20           3:17:55 h   \n",
       "2539946                  50km                         20           4:02:32 h   \n",
       "2539947                  50km                         20           4:07:57 h   \n",
       "2539948                  50km                         20           4:22:02 h   \n",
       "2539949                  50km                         20           4:27:34 h   \n",
       "\n",
       "                   Athlete club Athlete country  Athlete year of birth  \\\n",
       "2539945      *Normandy Park, WA             USA                 1991.0   \n",
       "2539946           *Gold Bar, WA             USA                 1981.0   \n",
       "2539947             *Vashon, WA             USA                 1999.0   \n",
       "2539948         *Gig Harbor, WA             USA                 1983.0   \n",
       "2539949  *Bainbridge Island, WA             USA                 1977.0   \n",
       "\n",
       "        Athlete gender Athlete age category Athlete average speed  Athlete ID  \n",
       "2539945              M                  M23                15.158       71287  \n",
       "2539946              M                  M35                12.369      629508  \n",
       "2539947              M                 MU23                12.099       64838  \n",
       "2539948              M                  M35                11.449      704450  \n",
       "2539949              M                  M40                11.212      810281  "
      ]
     },
     "execution_count": 108,
     "metadata": {},
     "output_type": "execute_result"
    }
   ],
   "source": [
    "df_USA.head()"
   ]
  },
  {
   "cell_type": "code",
   "execution_count": 7,
   "id": "7d139506-9bfe-4c3b-83f4-4b5fd2182b88",
   "metadata": {},
   "outputs": [
    {
     "name": "stderr",
     "output_type": "stream",
     "text": [
      "C:\\Users\\DELL\\AppData\\Local\\Temp\\ipykernel_1708\\31297088.py:1: SettingWithCopyWarning: \n",
      "A value is trying to be set on a copy of a slice from a DataFrame.\n",
      "Try using .loc[row_indexer,col_indexer] = value instead\n",
      "\n",
      "See the caveats in the documentation: https://pandas.pydata.org/pandas-docs/stable/user_guide/indexing.html#returning-a-view-versus-a-copy\n",
      "  df_USA['athelete age'] = 2020-df_USA['Athlete year of birth']\n"
     ]
    },
    {
     "data": {
      "text/html": [
       "<div>\n",
       "<style scoped>\n",
       "    .dataframe tbody tr th:only-of-type {\n",
       "        vertical-align: middle;\n",
       "    }\n",
       "\n",
       "    .dataframe tbody tr th {\n",
       "        vertical-align: top;\n",
       "    }\n",
       "\n",
       "    .dataframe thead th {\n",
       "        text-align: right;\n",
       "    }\n",
       "</style>\n",
       "<table border=\"1\" class=\"dataframe\">\n",
       "  <thead>\n",
       "    <tr style=\"text-align: right;\">\n",
       "      <th></th>\n",
       "      <th>Year of event</th>\n",
       "      <th>Event dates</th>\n",
       "      <th>Event name</th>\n",
       "      <th>Event distance/length</th>\n",
       "      <th>Event number of finishers</th>\n",
       "      <th>Athlete performance</th>\n",
       "      <th>Athlete club</th>\n",
       "      <th>Athlete country</th>\n",
       "      <th>Athlete year of birth</th>\n",
       "      <th>Athlete gender</th>\n",
       "      <th>Athlete age category</th>\n",
       "      <th>Athlete average speed</th>\n",
       "      <th>Athlete ID</th>\n",
       "      <th>athelete age</th>\n",
       "    </tr>\n",
       "  </thead>\n",
       "  <tbody>\n",
       "    <tr>\n",
       "      <th>2539945</th>\n",
       "      <td>2020</td>\n",
       "      <td>02.02.2020</td>\n",
       "      <td>West Seattle Beach Run - Winter Edition</td>\n",
       "      <td>50km</td>\n",
       "      <td>20</td>\n",
       "      <td>3:17:55 h</td>\n",
       "      <td>*Normandy Park, WA</td>\n",
       "      <td>USA</td>\n",
       "      <td>1991.0</td>\n",
       "      <td>M</td>\n",
       "      <td>M23</td>\n",
       "      <td>15.158</td>\n",
       "      <td>71287</td>\n",
       "      <td>29.0</td>\n",
       "    </tr>\n",
       "    <tr>\n",
       "      <th>2539946</th>\n",
       "      <td>2020</td>\n",
       "      <td>02.02.2020</td>\n",
       "      <td>West Seattle Beach Run - Winter Edition</td>\n",
       "      <td>50km</td>\n",
       "      <td>20</td>\n",
       "      <td>4:02:32 h</td>\n",
       "      <td>*Gold Bar, WA</td>\n",
       "      <td>USA</td>\n",
       "      <td>1981.0</td>\n",
       "      <td>M</td>\n",
       "      <td>M35</td>\n",
       "      <td>12.369</td>\n",
       "      <td>629508</td>\n",
       "      <td>39.0</td>\n",
       "    </tr>\n",
       "    <tr>\n",
       "      <th>2539947</th>\n",
       "      <td>2020</td>\n",
       "      <td>02.02.2020</td>\n",
       "      <td>West Seattle Beach Run - Winter Edition</td>\n",
       "      <td>50km</td>\n",
       "      <td>20</td>\n",
       "      <td>4:07:57 h</td>\n",
       "      <td>*Vashon, WA</td>\n",
       "      <td>USA</td>\n",
       "      <td>1999.0</td>\n",
       "      <td>M</td>\n",
       "      <td>MU23</td>\n",
       "      <td>12.099</td>\n",
       "      <td>64838</td>\n",
       "      <td>21.0</td>\n",
       "    </tr>\n",
       "    <tr>\n",
       "      <th>2539948</th>\n",
       "      <td>2020</td>\n",
       "      <td>02.02.2020</td>\n",
       "      <td>West Seattle Beach Run - Winter Edition</td>\n",
       "      <td>50km</td>\n",
       "      <td>20</td>\n",
       "      <td>4:22:02 h</td>\n",
       "      <td>*Gig Harbor, WA</td>\n",
       "      <td>USA</td>\n",
       "      <td>1983.0</td>\n",
       "      <td>M</td>\n",
       "      <td>M35</td>\n",
       "      <td>11.449</td>\n",
       "      <td>704450</td>\n",
       "      <td>37.0</td>\n",
       "    </tr>\n",
       "    <tr>\n",
       "      <th>2539949</th>\n",
       "      <td>2020</td>\n",
       "      <td>02.02.2020</td>\n",
       "      <td>West Seattle Beach Run - Winter Edition</td>\n",
       "      <td>50km</td>\n",
       "      <td>20</td>\n",
       "      <td>4:27:34 h</td>\n",
       "      <td>*Bainbridge Island, WA</td>\n",
       "      <td>USA</td>\n",
       "      <td>1977.0</td>\n",
       "      <td>M</td>\n",
       "      <td>M40</td>\n",
       "      <td>11.212</td>\n",
       "      <td>810281</td>\n",
       "      <td>43.0</td>\n",
       "    </tr>\n",
       "  </tbody>\n",
       "</table>\n",
       "</div>"
      ],
      "text/plain": [
       "         Year of event Event dates                                Event name  \\\n",
       "2539945           2020  02.02.2020  West Seattle Beach Run - Winter Edition    \n",
       "2539946           2020  02.02.2020  West Seattle Beach Run - Winter Edition    \n",
       "2539947           2020  02.02.2020  West Seattle Beach Run - Winter Edition    \n",
       "2539948           2020  02.02.2020  West Seattle Beach Run - Winter Edition    \n",
       "2539949           2020  02.02.2020  West Seattle Beach Run - Winter Edition    \n",
       "\n",
       "        Event distance/length  Event number of finishers Athlete performance  \\\n",
       "2539945                  50km                         20           3:17:55 h   \n",
       "2539946                  50km                         20           4:02:32 h   \n",
       "2539947                  50km                         20           4:07:57 h   \n",
       "2539948                  50km                         20           4:22:02 h   \n",
       "2539949                  50km                         20           4:27:34 h   \n",
       "\n",
       "                   Athlete club Athlete country  Athlete year of birth  \\\n",
       "2539945      *Normandy Park, WA             USA                 1991.0   \n",
       "2539946           *Gold Bar, WA             USA                 1981.0   \n",
       "2539947             *Vashon, WA             USA                 1999.0   \n",
       "2539948         *Gig Harbor, WA             USA                 1983.0   \n",
       "2539949  *Bainbridge Island, WA             USA                 1977.0   \n",
       "\n",
       "        Athlete gender Athlete age category Athlete average speed  Athlete ID  \\\n",
       "2539945              M                  M23                15.158       71287   \n",
       "2539946              M                  M35                12.369      629508   \n",
       "2539947              M                 MU23                12.099       64838   \n",
       "2539948              M                  M35                11.449      704450   \n",
       "2539949              M                  M40                11.212      810281   \n",
       "\n",
       "         athelete age  \n",
       "2539945          29.0  \n",
       "2539946          39.0  \n",
       "2539947          21.0  \n",
       "2539948          37.0  \n",
       "2539949          43.0  "
      ]
     },
     "execution_count": 7,
     "metadata": {},
     "output_type": "execute_result"
    }
   ],
   "source": [
    "df_USA['athelete age'] = 2020-df_USA['Athlete year of birth']\n",
    "df_USA.head()"
   ]
  },
  {
   "cell_type": "code",
   "execution_count": 118,
   "id": "a2eb49c9-45c8-4e57-acfb-37a02ae02cec",
   "metadata": {},
   "outputs": [
    {
     "data": {
      "text/html": [
       "<div>\n",
       "<style scoped>\n",
       "    .dataframe tbody tr th:only-of-type {\n",
       "        vertical-align: middle;\n",
       "    }\n",
       "\n",
       "    .dataframe tbody tr th {\n",
       "        vertical-align: top;\n",
       "    }\n",
       "\n",
       "    .dataframe thead th {\n",
       "        text-align: right;\n",
       "    }\n",
       "</style>\n",
       "<table border=\"1\" class=\"dataframe\">\n",
       "  <thead>\n",
       "    <tr style=\"text-align: right;\">\n",
       "      <th></th>\n",
       "      <th>Year of event</th>\n",
       "      <th>Event dates</th>\n",
       "      <th>Event name</th>\n",
       "      <th>Event distance/length</th>\n",
       "      <th>Event number of finishers</th>\n",
       "      <th>Athlete performance</th>\n",
       "      <th>Athlete club</th>\n",
       "      <th>Athlete country</th>\n",
       "      <th>Athlete year of birth</th>\n",
       "      <th>Athlete gender</th>\n",
       "      <th>Athlete age category</th>\n",
       "      <th>Athlete average speed</th>\n",
       "      <th>Athlete ID</th>\n",
       "      <th>athelete age</th>\n",
       "    </tr>\n",
       "  </thead>\n",
       "  <tbody>\n",
       "    <tr>\n",
       "      <th>2539945</th>\n",
       "      <td>2020</td>\n",
       "      <td>02.02.2020</td>\n",
       "      <td>West Seattle Beach Run - Winter Edition</td>\n",
       "      <td>50km</td>\n",
       "      <td>20</td>\n",
       "      <td>3:17:55</td>\n",
       "      <td>*Normandy Park, WA</td>\n",
       "      <td>USA</td>\n",
       "      <td>1991.0</td>\n",
       "      <td>M</td>\n",
       "      <td>M23</td>\n",
       "      <td>15.158</td>\n",
       "      <td>71287</td>\n",
       "      <td>29.0</td>\n",
       "    </tr>\n",
       "    <tr>\n",
       "      <th>2539946</th>\n",
       "      <td>2020</td>\n",
       "      <td>02.02.2020</td>\n",
       "      <td>West Seattle Beach Run - Winter Edition</td>\n",
       "      <td>50km</td>\n",
       "      <td>20</td>\n",
       "      <td>4:02:32</td>\n",
       "      <td>*Gold Bar, WA</td>\n",
       "      <td>USA</td>\n",
       "      <td>1981.0</td>\n",
       "      <td>M</td>\n",
       "      <td>M35</td>\n",
       "      <td>12.369</td>\n",
       "      <td>629508</td>\n",
       "      <td>39.0</td>\n",
       "    </tr>\n",
       "    <tr>\n",
       "      <th>2539947</th>\n",
       "      <td>2020</td>\n",
       "      <td>02.02.2020</td>\n",
       "      <td>West Seattle Beach Run - Winter Edition</td>\n",
       "      <td>50km</td>\n",
       "      <td>20</td>\n",
       "      <td>4:07:57</td>\n",
       "      <td>*Vashon, WA</td>\n",
       "      <td>USA</td>\n",
       "      <td>1999.0</td>\n",
       "      <td>M</td>\n",
       "      <td>MU23</td>\n",
       "      <td>12.099</td>\n",
       "      <td>64838</td>\n",
       "      <td>21.0</td>\n",
       "    </tr>\n",
       "    <tr>\n",
       "      <th>2539948</th>\n",
       "      <td>2020</td>\n",
       "      <td>02.02.2020</td>\n",
       "      <td>West Seattle Beach Run - Winter Edition</td>\n",
       "      <td>50km</td>\n",
       "      <td>20</td>\n",
       "      <td>4:22:02</td>\n",
       "      <td>*Gig Harbor, WA</td>\n",
       "      <td>USA</td>\n",
       "      <td>1983.0</td>\n",
       "      <td>M</td>\n",
       "      <td>M35</td>\n",
       "      <td>11.449</td>\n",
       "      <td>704450</td>\n",
       "      <td>37.0</td>\n",
       "    </tr>\n",
       "    <tr>\n",
       "      <th>2539949</th>\n",
       "      <td>2020</td>\n",
       "      <td>02.02.2020</td>\n",
       "      <td>West Seattle Beach Run - Winter Edition</td>\n",
       "      <td>50km</td>\n",
       "      <td>20</td>\n",
       "      <td>4:27:34</td>\n",
       "      <td>*Bainbridge Island, WA</td>\n",
       "      <td>USA</td>\n",
       "      <td>1977.0</td>\n",
       "      <td>M</td>\n",
       "      <td>M40</td>\n",
       "      <td>11.212</td>\n",
       "      <td>810281</td>\n",
       "      <td>43.0</td>\n",
       "    </tr>\n",
       "  </tbody>\n",
       "</table>\n",
       "</div>"
      ],
      "text/plain": [
       "         Year of event Event dates                                Event name  \\\n",
       "2539945           2020  02.02.2020  West Seattle Beach Run - Winter Edition    \n",
       "2539946           2020  02.02.2020  West Seattle Beach Run - Winter Edition    \n",
       "2539947           2020  02.02.2020  West Seattle Beach Run - Winter Edition    \n",
       "2539948           2020  02.02.2020  West Seattle Beach Run - Winter Edition    \n",
       "2539949           2020  02.02.2020  West Seattle Beach Run - Winter Edition    \n",
       "\n",
       "        Event distance/length  Event number of finishers Athlete performance  \\\n",
       "2539945                  50km                         20            3:17:55    \n",
       "2539946                  50km                         20            4:02:32    \n",
       "2539947                  50km                         20            4:07:57    \n",
       "2539948                  50km                         20            4:22:02    \n",
       "2539949                  50km                         20            4:27:34    \n",
       "\n",
       "                   Athlete club Athlete country  Athlete year of birth  \\\n",
       "2539945      *Normandy Park, WA             USA                 1991.0   \n",
       "2539946           *Gold Bar, WA             USA                 1981.0   \n",
       "2539947             *Vashon, WA             USA                 1999.0   \n",
       "2539948         *Gig Harbor, WA             USA                 1983.0   \n",
       "2539949  *Bainbridge Island, WA             USA                 1977.0   \n",
       "\n",
       "        Athlete gender Athlete age category Athlete average speed  Athlete ID  \\\n",
       "2539945              M                  M23                15.158       71287   \n",
       "2539946              M                  M35                12.369      629508   \n",
       "2539947              M                 MU23                12.099       64838   \n",
       "2539948              M                  M35                11.449      704450   \n",
       "2539949              M                  M40                11.212      810281   \n",
       "\n",
       "         athelete age  \n",
       "2539945          29.0  \n",
       "2539946          39.0  \n",
       "2539947          21.0  \n",
       "2539948          37.0  \n",
       "2539949          43.0  "
      ]
     },
     "execution_count": 118,
     "metadata": {},
     "output_type": "execute_result"
    }
   ],
   "source": [
    "# df_USA.loc[:'Athlete performance'] = df_USA['Athlete performance'].str[:-1]\n",
    "df_USA.head()"
   ]
  },
  {
   "cell_type": "code",
   "execution_count": 112,
   "id": "ad91581c-b488-4d4e-a189-440fb1d3ac6b",
   "metadata": {},
   "outputs": [
    {
     "data": {
      "text/plain": [
       "2539945    3:17:55 \n",
       "2539946    4:02:32 \n",
       "2539947    4:07:57 \n",
       "2539948    4:22:02 \n",
       "2539949    4:27:34 \n",
       "             ...   \n",
       "2760957    7:07:48 \n",
       "2760958    7:27:22 \n",
       "2760959    7:27:24 \n",
       "2760960    7:38:30 \n",
       "2760961    7:59:53 \n",
       "Name: Athlete performance, Length: 26524, dtype: object"
      ]
     },
     "execution_count": 112,
     "metadata": {},
     "output_type": "execute_result"
    }
   ],
   "source": [
    " df_USA['Athlete performance'].str[:-1]"
   ]
  },
  {
   "cell_type": "code",
   "execution_count": 8,
   "id": "319c662f-3eda-4fe5-9535-8e4182cb93ff",
   "metadata": {},
   "outputs": [],
   "source": [
    "df_USA = df_USA.drop(columns={'Athlete club','Athlete country','Athlete year of birth','Athlete age category'})"
   ]
  },
  {
   "cell_type": "code",
   "execution_count": 132,
   "id": "a165761a-c2ab-4edc-8f75-b625c4aa0c13",
   "metadata": {},
   "outputs": [
    {
     "data": {
      "text/html": [
       "<div>\n",
       "<style scoped>\n",
       "    .dataframe tbody tr th:only-of-type {\n",
       "        vertical-align: middle;\n",
       "    }\n",
       "\n",
       "    .dataframe tbody tr th {\n",
       "        vertical-align: top;\n",
       "    }\n",
       "\n",
       "    .dataframe thead th {\n",
       "        text-align: right;\n",
       "    }\n",
       "</style>\n",
       "<table border=\"1\" class=\"dataframe\">\n",
       "  <thead>\n",
       "    <tr style=\"text-align: right;\">\n",
       "      <th></th>\n",
       "      <th>Year of event</th>\n",
       "      <th>Event dates</th>\n",
       "      <th>Event name</th>\n",
       "      <th>Event distance/length</th>\n",
       "      <th>Event number of finishers</th>\n",
       "      <th>Athlete performance</th>\n",
       "      <th>Athlete gender</th>\n",
       "      <th>Athlete average speed</th>\n",
       "      <th>Athlete ID</th>\n",
       "      <th>athelete age</th>\n",
       "    </tr>\n",
       "  </thead>\n",
       "  <tbody>\n",
       "    <tr>\n",
       "      <th>2539945</th>\n",
       "      <td>2020</td>\n",
       "      <td>02.02.2020</td>\n",
       "      <td>West Seattle Beach Run - Winter Edition</td>\n",
       "      <td>50km</td>\n",
       "      <td>20</td>\n",
       "      <td>3:17:55 h</td>\n",
       "      <td>M</td>\n",
       "      <td>15.158</td>\n",
       "      <td>71287</td>\n",
       "      <td>29.0</td>\n",
       "    </tr>\n",
       "    <tr>\n",
       "      <th>2539946</th>\n",
       "      <td>2020</td>\n",
       "      <td>02.02.2020</td>\n",
       "      <td>West Seattle Beach Run - Winter Edition</td>\n",
       "      <td>50km</td>\n",
       "      <td>20</td>\n",
       "      <td>4:02:32 h</td>\n",
       "      <td>M</td>\n",
       "      <td>12.369</td>\n",
       "      <td>629508</td>\n",
       "      <td>39.0</td>\n",
       "    </tr>\n",
       "    <tr>\n",
       "      <th>2539947</th>\n",
       "      <td>2020</td>\n",
       "      <td>02.02.2020</td>\n",
       "      <td>West Seattle Beach Run - Winter Edition</td>\n",
       "      <td>50km</td>\n",
       "      <td>20</td>\n",
       "      <td>4:07:57 h</td>\n",
       "      <td>M</td>\n",
       "      <td>12.099</td>\n",
       "      <td>64838</td>\n",
       "      <td>21.0</td>\n",
       "    </tr>\n",
       "    <tr>\n",
       "      <th>2539948</th>\n",
       "      <td>2020</td>\n",
       "      <td>02.02.2020</td>\n",
       "      <td>West Seattle Beach Run - Winter Edition</td>\n",
       "      <td>50km</td>\n",
       "      <td>20</td>\n",
       "      <td>4:22:02 h</td>\n",
       "      <td>M</td>\n",
       "      <td>11.449</td>\n",
       "      <td>704450</td>\n",
       "      <td>37.0</td>\n",
       "    </tr>\n",
       "    <tr>\n",
       "      <th>2539949</th>\n",
       "      <td>2020</td>\n",
       "      <td>02.02.2020</td>\n",
       "      <td>West Seattle Beach Run - Winter Edition</td>\n",
       "      <td>50km</td>\n",
       "      <td>20</td>\n",
       "      <td>4:27:34 h</td>\n",
       "      <td>M</td>\n",
       "      <td>11.212</td>\n",
       "      <td>810281</td>\n",
       "      <td>43.0</td>\n",
       "    </tr>\n",
       "  </tbody>\n",
       "</table>\n",
       "</div>"
      ],
      "text/plain": [
       "         Year of event Event dates                                Event name  \\\n",
       "2539945           2020  02.02.2020  West Seattle Beach Run - Winter Edition    \n",
       "2539946           2020  02.02.2020  West Seattle Beach Run - Winter Edition    \n",
       "2539947           2020  02.02.2020  West Seattle Beach Run - Winter Edition    \n",
       "2539948           2020  02.02.2020  West Seattle Beach Run - Winter Edition    \n",
       "2539949           2020  02.02.2020  West Seattle Beach Run - Winter Edition    \n",
       "\n",
       "        Event distance/length  Event number of finishers Athlete performance  \\\n",
       "2539945                  50km                         20           3:17:55 h   \n",
       "2539946                  50km                         20           4:02:32 h   \n",
       "2539947                  50km                         20           4:07:57 h   \n",
       "2539948                  50km                         20           4:22:02 h   \n",
       "2539949                  50km                         20           4:27:34 h   \n",
       "\n",
       "        Athlete gender Athlete average speed  Athlete ID  athelete age  \n",
       "2539945              M                15.158       71287          29.0  \n",
       "2539946              M                12.369      629508          39.0  \n",
       "2539947              M                12.099       64838          21.0  \n",
       "2539948              M                11.449      704450          37.0  \n",
       "2539949              M                11.212      810281          43.0  "
      ]
     },
     "execution_count": 132,
     "metadata": {},
     "output_type": "execute_result"
    }
   ],
   "source": [
    "df_USA.head()"
   ]
  },
  {
   "cell_type": "code",
   "execution_count": 140,
   "id": "879ab102-f414-4a2e-8b76-a4810dd52ae0",
   "metadata": {},
   "outputs": [
    {
     "data": {
      "text/plain": [
       "Year of event                  0\n",
       "Event dates                    0\n",
       "Event name                     0\n",
       "Event distance/length          0\n",
       "Event number of finishers      0\n",
       "Athlete performance            0\n",
       "Athlete gender                 0\n",
       "Athlete average speed          0\n",
       "Athlete ID                     0\n",
       "athelete age                 235\n",
       "dtype: int64"
      ]
     },
     "execution_count": 140,
     "metadata": {},
     "output_type": "execute_result"
    }
   ],
   "source": [
    "df_USA.isna().sum()"
   ]
  },
  {
   "cell_type": "code",
   "execution_count": 136,
   "id": "554ab6ba-ce61-490c-8dbb-8e8bd0d68228",
   "metadata": {},
   "outputs": [
    {
     "data": {
      "text/plain": [
       "(26524, 10)"
      ]
     },
     "execution_count": 136,
     "metadata": {},
     "output_type": "execute_result"
    }
   ],
   "source": [
    "df_USA.shape"
   ]
  },
  {
   "cell_type": "code",
   "execution_count": 9,
   "id": "2784ef32-40f4-4e9e-b7d4-78f90c62f61d",
   "metadata": {},
   "outputs": [],
   "source": [
    "df_USA = df_USA.dropna()"
   ]
  },
  {
   "cell_type": "code",
   "execution_count": 144,
   "id": "dbcd4fae-36cc-4438-8961-fe606bd6350b",
   "metadata": {},
   "outputs": [
    {
     "data": {
      "text/plain": [
       "(26289, 10)"
      ]
     },
     "execution_count": 144,
     "metadata": {},
     "output_type": "execute_result"
    }
   ],
   "source": [
    "df_USA.shape"
   ]
  },
  {
   "cell_type": "code",
   "execution_count": 10,
   "id": "03956795-e3fa-407a-81c3-d48197d13c47",
   "metadata": {},
   "outputs": [],
   "source": [
    "df_USA.reset_index(drop = True,inplace=True)"
   ]
  },
  {
   "cell_type": "code",
   "execution_count": 184,
   "id": "cdccafb4-a7b1-4e70-8a9b-f8077b93a1ef",
   "metadata": {},
   "outputs": [
    {
     "data": {
      "text/plain": [
       "Year of event                  int64\n",
       "Event dates                   object\n",
       "Event name                    object\n",
       "Event distance/length         object\n",
       "Event number of finishers      int64\n",
       "Athlete performance           object\n",
       "Athlete gender                object\n",
       "Athlete average speed         object\n",
       "Athlete ID                     int64\n",
       "athelete age                 float64\n",
       "dtype: object"
      ]
     },
     "execution_count": 184,
     "metadata": {},
     "output_type": "execute_result"
    }
   ],
   "source": [
    "df_USA.dtypes"
   ]
  },
  {
   "cell_type": "code",
   "execution_count": 186,
   "id": "243294bc-0e28-4ef6-8003-5e2d4aec6995",
   "metadata": {},
   "outputs": [
    {
     "data": {
      "text/html": [
       "<div>\n",
       "<style scoped>\n",
       "    .dataframe tbody tr th:only-of-type {\n",
       "        vertical-align: middle;\n",
       "    }\n",
       "\n",
       "    .dataframe tbody tr th {\n",
       "        vertical-align: top;\n",
       "    }\n",
       "\n",
       "    .dataframe thead th {\n",
       "        text-align: right;\n",
       "    }\n",
       "</style>\n",
       "<table border=\"1\" class=\"dataframe\">\n",
       "  <thead>\n",
       "    <tr style=\"text-align: right;\">\n",
       "      <th></th>\n",
       "      <th>Year of event</th>\n",
       "      <th>Event number of finishers</th>\n",
       "      <th>Athlete ID</th>\n",
       "      <th>athelete age</th>\n",
       "    </tr>\n",
       "  </thead>\n",
       "  <tbody>\n",
       "    <tr>\n",
       "      <th>count</th>\n",
       "      <td>26289.0</td>\n",
       "      <td>26289.000000</td>\n",
       "      <td>26289.000000</td>\n",
       "      <td>26289.000000</td>\n",
       "    </tr>\n",
       "    <tr>\n",
       "      <th>mean</th>\n",
       "      <td>2020.0</td>\n",
       "      <td>122.610902</td>\n",
       "      <td>453490.275629</td>\n",
       "      <td>41.871049</td>\n",
       "    </tr>\n",
       "    <tr>\n",
       "      <th>std</th>\n",
       "      <td>0.0</td>\n",
       "      <td>130.565866</td>\n",
       "      <td>328757.969695</td>\n",
       "      <td>10.717814</td>\n",
       "    </tr>\n",
       "    <tr>\n",
       "      <th>min</th>\n",
       "      <td>2020.0</td>\n",
       "      <td>2.000000</td>\n",
       "      <td>55.000000</td>\n",
       "      <td>9.000000</td>\n",
       "    </tr>\n",
       "    <tr>\n",
       "      <th>25%</th>\n",
       "      <td>2020.0</td>\n",
       "      <td>44.000000</td>\n",
       "      <td>88557.000000</td>\n",
       "      <td>34.000000</td>\n",
       "    </tr>\n",
       "    <tr>\n",
       "      <th>50%</th>\n",
       "      <td>2020.0</td>\n",
       "      <td>79.000000</td>\n",
       "      <td>400124.000000</td>\n",
       "      <td>41.000000</td>\n",
       "    </tr>\n",
       "    <tr>\n",
       "      <th>75%</th>\n",
       "      <td>2020.0</td>\n",
       "      <td>156.000000</td>\n",
       "      <td>815680.000000</td>\n",
       "      <td>49.000000</td>\n",
       "    </tr>\n",
       "    <tr>\n",
       "      <th>max</th>\n",
       "      <td>2020.0</td>\n",
       "      <td>636.000000</td>\n",
       "      <td>860349.000000</td>\n",
       "      <td>85.000000</td>\n",
       "    </tr>\n",
       "  </tbody>\n",
       "</table>\n",
       "</div>"
      ],
      "text/plain": [
       "       Year of event  Event number of finishers     Athlete ID  athelete age\n",
       "count        26289.0               26289.000000   26289.000000  26289.000000\n",
       "mean          2020.0                 122.610902  453490.275629     41.871049\n",
       "std              0.0                 130.565866  328757.969695     10.717814\n",
       "min           2020.0                   2.000000      55.000000      9.000000\n",
       "25%           2020.0                  44.000000   88557.000000     34.000000\n",
       "50%           2020.0                  79.000000  400124.000000     41.000000\n",
       "75%           2020.0                 156.000000  815680.000000     49.000000\n",
       "max           2020.0                 636.000000  860349.000000     85.000000"
      ]
     },
     "execution_count": 186,
     "metadata": {},
     "output_type": "execute_result"
    }
   ],
   "source": [
    "df_USA.describe()"
   ]
  },
  {
   "cell_type": "code",
   "execution_count": 11,
   "id": "aa3bf869-5bf6-463a-b4c9-a914904b5c04",
   "metadata": {},
   "outputs": [],
   "source": [
    "# Handle invalid data before conversion\n",
    "df_USA['athelete age'] = pd.to_numeric(df_USA['athelete age'], errors='coerce').astype('Int8')\n",
    "df_USA['Athlete average speed'] = pd.to_numeric(df_USA['Athlete average speed'], errors='coerce').astype('Float32')\n",
    "df_USA['Year of event'] = pd.to_numeric(df_USA['Year of event'], errors='coerce').astype('Int64')\n"
   ]
  },
  {
   "cell_type": "code",
   "execution_count": 206,
   "id": "b1f87315-261c-4e6c-a8ec-bcd2291944d2",
   "metadata": {},
   "outputs": [
    {
     "data": {
      "text/plain": [
       "Year of event                  Int64\n",
       "Event dates                   object\n",
       "Event name                    object\n",
       "Event distance/length         object\n",
       "Event number of finishers      int64\n",
       "Athlete performance           object\n",
       "Athlete gender                object\n",
       "Athlete average speed        Float32\n",
       "Athlete ID                     int64\n",
       "athelete age                    Int8\n",
       "dtype: object"
      ]
     },
     "execution_count": 206,
     "metadata": {},
     "output_type": "execute_result"
    }
   ],
   "source": [
    "df_USA.dtypes"
   ]
  },
  {
   "cell_type": "code",
   "execution_count": 12,
   "id": "ac5b4722-380e-487f-8d80-7efa1c321af4",
   "metadata": {},
   "outputs": [
    {
     "data": {
      "text/plain": [
       "<Axes: xlabel='Event distance/length', ylabel='Count'>"
      ]
     },
     "execution_count": 12,
     "metadata": {},
     "output_type": "execute_result"
    },
    {
     "data": {
      "image/png": "[encoded data removed]",
      "text/plain": [
       "<Figure size 640x480 with 1 Axes>"
      ]
     },
     "metadata": {},
     "output_type": "display_data"
    }
   ],
   "source": [
    "sns.histplot(df_USA['Event distance/length'])"
   ]
  },
  {
   "cell_type": "code",
   "execution_count": 22,
   "id": "ee1ecc4c-661f-4a91-8e48-08824f126b93",
   "metadata": {},
   "outputs": [
    {
     "data": {
      "text/plain": [
       "<Axes: xlabel='Athlete gender'>"
      ]
     },
     "execution_count": 22,
     "metadata": {},
     "output_type": "execute_result"
    },
    {
     "data": {
      "image/png": "[encoded data removed]",
      "text/plain": [
       "<Figure size 640x480 with 1 Axes>"
      ]
     },
     "metadata": {},
     "output_type": "display_data"
    }
   ],
   "source": [
    "df_USA['Athlete gender'].value_counts().plot(kind='bar', color=['blue', 'pink'])"
   ]
  },
  {
   "cell_type": "code",
   "execution_count": 26,
   "id": "4f7f2f37-490a-423b-93a6-507d54cc9cda",
   "metadata": {},
   "outputs": [
    {
     "data": {
      "text/plain": [
       "<Axes: xlabel='Event distance/length', ylabel='Count'>"
      ]
     },
     "execution_count": 26,
     "metadata": {},
     "output_type": "execute_result"
    },
    {
     "data": {
      "image/png": "[encoded data removed]",
      "text/plain": [
       "<Figure size 640x480 with 1 Axes>"
      ]
     },
     "metadata": {},
     "output_type": "display_data"
    }
   ],
   "source": [
    "sns.histplot(df_USA,x='Event distance/length',hue='Athlete gender')"
   ]
  },
  {
   "cell_type": "code",
   "execution_count": 32,
   "id": "64c76dc4-923b-4c42-a292-850034d541a3",
   "metadata": {},
   "outputs": [
    {
     "data": {
      "text/plain": [
       "<seaborn.axisgrid.FacetGrid at 0x24301b5b0b0>"
      ]
     },
     "execution_count": 32,
     "metadata": {},
     "output_type": "execute_result"
    },
    {
     "data": {
      "image/png": "[encoded data removed]",
      "text/plain": [
       "<Figure size 500x500 with 1 Axes>"
      ]
     },
     "metadata": {},
     "output_type": "display_data"
    }
   ],
   "source": [
    "sns.displot(df_USA[df_USA['Event distance/length']=='50mi']['Athlete average speed'])"
   ]
  },
  {
   "cell_type": "code",
   "execution_count": 34,
   "id": "522e1f8e-a44a-484b-8595-34fa4d010a00",
   "metadata": {},
   "outputs": [
    {
     "data": {
      "text/plain": [
       "<Axes: xlabel='Event distance/length', ylabel='Athlete average speed'>"
      ]
     },
     "execution_count": 34,
     "metadata": {},
     "output_type": "execute_result"
    },
    {
     "data": {
      "image/png": "[encoded data removed]",
      "text/plain": [
       "<Figure size 640x480 with 1 Axes>"
      ]
     },
     "metadata": {},
     "output_type": "display_data"
    }
   ],
   "source": [
    "sns.violinplot(data=df_USA,x='Event distance/length',y='Athlete average speed',hue='Athlete gender')"
   ]
  },
  {
   "cell_type": "code",
   "execution_count": 36,
   "id": "399f9d3b-d90c-4514-ab2c-d5c5bde92824",
   "metadata": {},
   "outputs": [
    {
     "data": {
      "text/plain": [
       "Index(['Year of event', 'Event dates', 'Event name', 'Event distance/length',\n",
       "       'Event number of finishers', 'Athlete performance', 'Athlete gender',\n",
       "       'Athlete average speed', 'Athlete ID', 'athelete age'],\n",
       "      dtype='object')"
      ]
     },
     "execution_count": 36,
     "metadata": {},
     "output_type": "execute_result"
    }
   ],
   "source": [
    "df_USA.columns"
   ]
  },
  {
   "cell_type": "code",
   "execution_count": 38,
   "id": "f0e9ac18-50e7-43ca-99f7-e7ae3a083310",
   "metadata": {},
   "outputs": [
    {
     "data": {
      "text/plain": [
       "<seaborn.axisgrid.FacetGrid at 0x2430c9ab290>"
      ]
     },
     "execution_count": 38,
     "metadata": {},
     "output_type": "execute_result"
    },
    {
     "data": {
      "image/png": "[encoded data removed]",
      "text/plain": [
       "<Figure size 500x500 with 1 Axes>"
      ]
     },
     "metadata": {},
     "output_type": "display_data"
    }
   ],
   "source": [
    "sns.lmplot(data=df_USA,x='athelete age',y='Athlete average speed')"
   ]
  },
  {
   "cell_type": "code",
   "execution_count": 40,
   "id": "3633bae1-78b6-4eb7-b7bd-a92939387a1f",
   "metadata": {},
   "outputs": [
    {
     "data": {
      "text/plain": [
       "<seaborn.axisgrid.FacetGrid at 0x2430c9a8140>"
      ]
     },
     "execution_count": 40,
     "metadata": {},
     "output_type": "execute_result"
    },
    {
     "data": {
      "image/png": "[encoded data removed]",
      "text/plain": [
       "<Figure size 614.611x500 with 1 Axes>"
      ]
     },
     "metadata": {},
     "output_type": "display_data"
    }
   ],
   "source": [
    "sns.lmplot(data=df_USA,x='athelete age',y='Athlete average speed',hue='Athlete gender')"
   ]
  },
  {
   "cell_type": "code",
   "execution_count": 42,
   "id": "090a4c66-381a-4957-beaa-f3eea4befd82",
   "metadata": {},
   "outputs": [],
   "source": [
    "#to check for the speed diff between male and female for differnt races"
   ]
  },
  {
   "cell_type": "code",
   "execution_count": 60,
   "id": "e56dc458-af2f-4e57-a42d-f19c833a1833",
   "metadata": {},
   "outputs": [
    {
     "data": {
      "text/plain": [
       "Index(['Year of event', 'Event dates', 'Event name', 'Event distance/length',\n",
       "       'Event number of finishers', 'Athlete performance', 'Athlete gender',\n",
       "       'Athlete average speed', 'Athlete ID', 'athelete age'],\n",
       "      dtype='object')"
      ]
     },
     "execution_count": 60,
     "metadata": {},
     "output_type": "execute_result"
    }
   ],
   "source": [
    "df_USA.columns"
   ]
  },
  {
   "cell_type": "code",
   "execution_count": 46,
   "id": "c0f8dff1-48df-4e26-a519-cd9b9f9e0367",
   "metadata": {},
   "outputs": [
    {
     "data": {
      "text/plain": [
       "Event distance/length  Athlete gender\n",
       "50km                   F                 7.092015\n",
       "                       M                 7.743376\n",
       "50mi                   F                 6.830764\n",
       "                       M                 7.249766\n",
       "Name: Athlete average speed, dtype: Float32"
      ]
     },
     "execution_count": 46,
     "metadata": {},
     "output_type": "execute_result"
    }
   ],
   "source": [
    "df_USA.groupby(['Event distance/length','Athlete gender'])['Athlete average speed'].mean()"
   ]
  },
  {
   "cell_type": "code",
   "execution_count": 104,
   "id": "ce3b4837-867a-4066-99af-6d9f412dba69",
   "metadata": {},
   "outputs": [
    {
     "data": {
      "text/plain": [
       "athelete age\n",
       "14     1\n",
       "18     3\n",
       "19     5\n",
       "20     3\n",
       "21     5\n",
       "22     9\n",
       "23    10\n",
       "24    11\n",
       "25    16\n",
       "26    14\n",
       "27    13\n",
       "28    24\n",
       "29    15\n",
       "30    15\n",
       "31    15\n",
       "32    21\n",
       "33    21\n",
       "34    13\n",
       "35    13\n",
       "36    20\n",
       "37    21\n",
       "38    30\n",
       "39    23\n",
       "40    23\n",
       "41    23\n",
       "42    24\n",
       "43    17\n",
       "44    20\n",
       "45    15\n",
       "46    17\n",
       "47    15\n",
       "48    18\n",
       "49    15\n",
       "50    14\n",
       "51     8\n",
       "52    11\n",
       "53     9\n",
       "54     9\n",
       "55     6\n",
       "56     5\n",
       "57     7\n",
       "58     3\n",
       "59     4\n",
       "60     5\n",
       "61     1\n",
       "62     1\n",
       "63     2\n",
       "64     5\n",
       "66     1\n",
       "68     1\n",
       "69     1\n",
       "71     3\n",
       "73     1\n",
       "74     1\n",
       "Name: Athlete average speed, dtype: Int64"
      ]
     },
     "execution_count": 104,
     "metadata": {},
     "output_type": "execute_result"
    }
   ],
   "source": [
    "cnt = df_USA.loc[df['Event distance/length'] == \"50mi\"].groupby('athelete age')['Athlete average speed'].count()\n",
    "cnt"
   ]
  },
  {
   "cell_type": "code",
   "execution_count": 106,
   "id": "697df88b-64b5-4eca-84e9-6a3c99f37f6d",
   "metadata": {},
   "outputs": [],
   "source": [
    "cnt = cnt[cnt>=20]"
   ]
  },
  {
   "cell_type": "code",
   "execution_count": 108,
   "id": "0e4353ba-1e31-49a1-8694-6d74cd2eaa01",
   "metadata": {},
   "outputs": [
    {
     "data": {
      "text/plain": [
       "athelete age\n",
       "28    24\n",
       "32    21\n",
       "33    21\n",
       "36    20\n",
       "37    21\n",
       "38    30\n",
       "39    23\n",
       "40    23\n",
       "41    23\n",
       "42    24\n",
       "44    20\n",
       "Name: Athlete average speed, dtype: Int64"
      ]
     },
     "execution_count": 108,
     "metadata": {},
     "output_type": "execute_result"
    }
   ],
   "source": [
    "cnt"
   ]
  },
  {
   "cell_type": "code",
   "execution_count": 110,
   "id": "8abddfcb-507d-4273-83cd-6f3da7440124",
   "metadata": {},
   "outputs": [],
   "source": [
    "mean_speeds = df_USA[df_USA['athelete age'].isin(cnt.index)] \\\n",
    "                .groupby('athelete age')['Athlete average speed'].mean()"
   ]
  },
  {
   "cell_type": "code",
   "execution_count": 112,
   "id": "c5d4bde4-d136-4714-b7d1-58fa9cd7a36c",
   "metadata": {},
   "outputs": [
    {
     "data": {
      "text/plain": [
       "athelete age\n",
       "28    7.892349\n",
       "32    7.831287\n",
       "33    7.712036\n",
       "36     7.74206\n",
       "37    7.648372\n",
       "38    7.626769\n",
       "39    7.582564\n",
       "40    7.555671\n",
       "41    7.469171\n",
       "42    7.588448\n",
       "44    7.376668\n",
       "Name: Athlete average speed, dtype: Float32"
      ]
     },
     "execution_count": 112,
     "metadata": {},
     "output_type": "execute_result"
    }
   ],
   "source": [
    "mean_speeds"
   ]
  },
  {
   "cell_type": "code",
   "execution_count": 114,
   "id": "154ec250-0923-404c-b538-d90f7d1c9ce6",
   "metadata": {},
   "outputs": [
    {
     "name": "stderr",
     "output_type": "stream",
     "text": [
      "C:\\Users\\DELL\\AppData\\Local\\Temp\\ipykernel_1708\\444503058.py:1: RuntimeWarning: Engine has switched to 'python' because numexpr does not support extension array dtypes. Please set your engine to python manually.\n",
      "  df_USA.loc[df['Event distance/length'] == \"50mi\"].groupby('athelete age')['Athlete average speed'].agg(['mean','count']).query('count>19')\n"
     ]
    },
    {
     "data": {
      "text/html": [
       "<div>\n",
       "<style scoped>\n",
       "    .dataframe tbody tr th:only-of-type {\n",
       "        vertical-align: middle;\n",
       "    }\n",
       "\n",
       "    .dataframe tbody tr th {\n",
       "        vertical-align: top;\n",
       "    }\n",
       "\n",
       "    .dataframe thead th {\n",
       "        text-align: right;\n",
       "    }\n",
       "</style>\n",
       "<table border=\"1\" class=\"dataframe\">\n",
       "  <thead>\n",
       "    <tr style=\"text-align: right;\">\n",
       "      <th></th>\n",
       "      <th>mean</th>\n",
       "      <th>count</th>\n",
       "    </tr>\n",
       "    <tr>\n",
       "      <th>athelete age</th>\n",
       "      <th></th>\n",
       "      <th></th>\n",
       "    </tr>\n",
       "  </thead>\n",
       "  <tbody>\n",
       "    <tr>\n",
       "      <th>28</th>\n",
       "      <td>7.688875</td>\n",
       "      <td>24</td>\n",
       "    </tr>\n",
       "    <tr>\n",
       "      <th>32</th>\n",
       "      <td>8.232476</td>\n",
       "      <td>21</td>\n",
       "    </tr>\n",
       "    <tr>\n",
       "      <th>33</th>\n",
       "      <td>8.102619</td>\n",
       "      <td>21</td>\n",
       "    </tr>\n",
       "    <tr>\n",
       "      <th>36</th>\n",
       "      <td>7.774</td>\n",
       "      <td>20</td>\n",
       "    </tr>\n",
       "    <tr>\n",
       "      <th>37</th>\n",
       "      <td>8.105905</td>\n",
       "      <td>21</td>\n",
       "    </tr>\n",
       "    <tr>\n",
       "      <th>38</th>\n",
       "      <td>7.446633</td>\n",
       "      <td>30</td>\n",
       "    </tr>\n",
       "    <tr>\n",
       "      <th>39</th>\n",
       "      <td>6.957695</td>\n",
       "      <td>23</td>\n",
       "    </tr>\n",
       "    <tr>\n",
       "      <th>40</th>\n",
       "      <td>7.785913</td>\n",
       "      <td>23</td>\n",
       "    </tr>\n",
       "    <tr>\n",
       "      <th>41</th>\n",
       "      <td>7.549218</td>\n",
       "      <td>23</td>\n",
       "    </tr>\n",
       "    <tr>\n",
       "      <th>42</th>\n",
       "      <td>7.955708</td>\n",
       "      <td>24</td>\n",
       "    </tr>\n",
       "    <tr>\n",
       "      <th>44</th>\n",
       "      <td>7.48025</td>\n",
       "      <td>20</td>\n",
       "    </tr>\n",
       "  </tbody>\n",
       "</table>\n",
       "</div>"
      ],
      "text/plain": [
       "                  mean  count\n",
       "athelete age                 \n",
       "28            7.688875     24\n",
       "32            8.232476     21\n",
       "33            8.102619     21\n",
       "36               7.774     20\n",
       "37            8.105905     21\n",
       "38            7.446633     30\n",
       "39            6.957695     23\n",
       "40            7.785913     23\n",
       "41            7.549218     23\n",
       "42            7.955708     24\n",
       "44             7.48025     20"
      ]
     },
     "execution_count": 114,
     "metadata": {},
     "output_type": "execute_result"
    }
   ],
   "source": [
    "df_USA.loc[df['Event distance/length'] == \"50mi\"].groupby('athelete age')['Athlete average speed'].agg(['mean','count']).query('count>19')"
   ]
  },
  {
   "cell_type": "code",
   "execution_count": 116,
   "id": "733abceb-972f-42db-b49e-37834a7e0636",
   "metadata": {},
   "outputs": [
    {
     "data": {
      "text/plain": [
       "Index(['Year of event', 'Event dates', 'Event name', 'Event distance/length',\n",
       "       'Event number of finishers', 'Athlete performance', 'Athlete gender',\n",
       "       'Athlete average speed', 'Athlete ID', 'athelete age'],\n",
       "      dtype='object')"
      ]
     },
     "execution_count": 116,
     "metadata": {},
     "output_type": "execute_result"
    }
   ],
   "source": [
    "df_USA.columns"
   ]
  },
  {
   "cell_type": "code",
   "execution_count": 124,
   "id": "51157c27-77d7-48bc-ad43-902746da6702",
   "metadata": {},
   "outputs": [],
   "source": [
    "df_USA['race_month'] = df_USA['Event dates'].str[-7:-5].astype(int)"
   ]
  },
  {
   "cell_type": "code",
   "execution_count": 132,
   "id": "d5a66698-a5a1-4c1a-9411-36b94304f297",
   "metadata": {},
   "outputs": [],
   "source": [
    "df_USA['season'] = df_USA['race_month'].apply(lambda x: \"Spring\" if (x >= 3 and x <= 5) \n",
    "                                           else \"Summer\" if (x >= 6 and x <= 8) \n",
    "                                           else \"Fall\" if (x >= 9 and x <= 11) \n",
    "                                           else \"Winter\")\n"
   ]
  },
  {
   "cell_type": "code",
   "execution_count": 134,
   "id": "494ae6e8-eb8c-4e9d-a113-e507d8c928b6",
   "metadata": {},
   "outputs": [
    {
     "data": {
      "text/plain": [
       "0        Winter\n",
       "1        Winter\n",
       "2        Winter\n",
       "3        Winter\n",
       "4        Winter\n",
       "          ...  \n",
       "26284      Fall\n",
       "26285      Fall\n",
       "26286      Fall\n",
       "26287      Fall\n",
       "26288      Fall\n",
       "Name: season, Length: 26289, dtype: object"
      ]
     },
     "execution_count": 134,
     "metadata": {},
     "output_type": "execute_result"
    }
   ],
   "source": [
    "df_USA['season']"
   ]
  },
  {
   "cell_type": "code",
   "execution_count": 136,
   "id": "9431b4e4-4bb2-4b1a-bd1f-d475adbc4d57",
   "metadata": {},
   "outputs": [
    {
     "data": {
      "text/plain": [
       "season\n",
       "Fall      7.367122\n",
       "Spring    7.706364\n",
       "Summer    6.826808\n",
       "Winter    7.584242\n",
       "Name: Athlete average speed, dtype: Float32"
      ]
     },
     "execution_count": 136,
     "metadata": {},
     "output_type": "execute_result"
    }
   ],
   "source": [
    "df_USA.groupby('season')['Athlete average speed'].mean()"
   ]
  },
  {
   "cell_type": "code",
   "execution_count": null,
   "id": "1e28b36b-5fd4-427d-b253-841121e1f4b1",
   "metadata": {},
   "outputs": [],
   "source": []
  }
 ],
 "metadata": {
  "kernelspec": {
   "display_name": "Python 3 (ipykernel)",
   "language": "python",
   "name": "python3"
  },
  "language_info": {
   "codemirror_mode": {
    "name": "ipython",
    "version": 3
   },
   "file_extension": ".py",
   "mimetype": "text/x-python",
   "name": "python",
   "nbconvert_exporter": "python",
   "pygments_lexer": "ipython3",
   "version": "3.12.4"
  }
 },
 "nbformat": 4,
 "nbformat_minor": 5
}
